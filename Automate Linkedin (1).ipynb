{
 "cells": [
  {
   "cell_type": "markdown",
   "id": "4517b830",
   "metadata": {},
   "source": [
    "## AUTOMATION OF LINKEDIN"
   ]
  },
  {
   "cell_type": "code",
   "execution_count": 233,
   "id": "8216a47d",
   "metadata": {},
   "outputs": [],
   "source": [
    "# install and import them\n",
    "\n",
    "from selenium import webdriver\n",
    "from selenium.webdriver.common.keys import Keys\n",
    "from selenium.webdriver.support import expected_conditions as EC\n",
    "from selenium.webdriver.support.wait import WebDriverWait\n",
    "import time\n",
    "from selenium.webdriver.chrome.service import Service\n",
    "from webdriver_manager.chrome import ChromeDriverManager\n",
    "from selenium.webdriver.common.by import By"
   ]
  },
  {
   "cell_type": "code",
   "execution_count": 234,
   "id": "54e41a3a",
   "metadata": {},
   "outputs": [
    {
     "name": "stdout",
     "output_type": "stream",
     "text": [
      "\n"
     ]
    }
   ],
   "source": [
    "# installing chromedriver for to  run and automate in chrome\n",
    "\n",
    "driver = webdriver.Chrome(service=Service(ChromeDriverManager().install()))\n",
    "driver.get(\"https://linkedin.com/\")"
   ]
  },
  {
   "cell_type": "code",
   "execution_count": 235,
   "id": "403aa799",
   "metadata": {},
   "outputs": [],
   "source": [
    "time.sleep(2)\n",
    "# username xpath (copy from html code) (go to inspect anad copy the full path)\n",
    "username = driver.find_element(By.XPATH, \"/html/body/main/section[1]/div/div/form/div[2]/div[1]/input\")\n",
    "# password xpath\n",
    "password = driver.find_element(By.XPATH, \"/html/body/main/section[1]/div/div/form/div[2]/div[2]/input\")\n",
    "\n",
    "# Give Your credentials here \n",
    "username.send_keys(\"your gmail\")\n",
    "password.send_keys(\"your password\")\n",
    "\n",
    "time.sleep(2)\n",
    "\n",
    "# submit button path\n",
    "submit = driver.find_element(By.XPATH, \"/html/body/main/section[1]/div/div/form/button\").click()\n",
    "time.sleep(2)\n",
    "\n",
    "# link providing after login, to find and to redirect the path \n",
    "driver.get(\"After login , the url link you wanna go, specify here\")\n",
    "\n",
    "time.sleep(2)\n"
   ]
  },
  {
   "cell_type": "code",
   "execution_count": 236,
   "id": "e9d51654",
   "metadata": {},
   "outputs": [],
   "source": [
    "#Button path of messaging\n",
    "msg_btn = driver.find_element(By.XPATH, '//*[@id=\"global-nav\"]/div/nav/ul/li[4]/a')\n",
    "msg_btn.click()\n",
    "time.sleep(2)"
   ]
  },
  {
   "cell_type": "code",
   "execution_count": 237,
   "id": "09d320ad",
   "metadata": {},
   "outputs": [],
   "source": [
    "# path for text box of the person in messages\n",
    "msg = driver.find_element(By.XPATH, '/html/body/div[4]/div[3]/div[2]/div/div/main/div/section[2]/div[2]/form/div[3]/div/div[1]/div[1]')\n",
    "msg.send_keys('Hi , I am a Bot')\n",
    "time.sleep(2)"
   ]
  },
  {
   "cell_type": "code",
   "execution_count": 238,
   "id": "a839f5aa",
   "metadata": {},
   "outputs": [],
   "source": [
    "# send message btn xpath (xpath you can copy from html source code of that page)\n",
    "driver.find_element(By.XPATH, '//*[@id=\"msg-form-ember162\"]/footer/div[2]/div[1]/button').click()"
   ]
  },
  {
   "cell_type": "markdown",
   "id": "ff2065a2",
   "metadata": {},
   "source": [
    "#### If anyone confused how to get xpath , follow below instructions\n",
    "\n",
    "* 1.Right Click of that web page\n",
    "* 2.Go to inspect\n",
    "* 3.You Have to click inspect which button Xpath you want\n",
    "* 4.After that , for example : it was a div attribute, right click on it copy the full path or xpath "
   ]
  },
  {
   "cell_type": "code",
   "execution_count": null,
   "id": "5e470245",
   "metadata": {},
   "outputs": [],
   "source": []
  }
 ],
 "metadata": {
  "kernelspec": {
   "display_name": "Python 3 (ipykernel)",
   "language": "python",
   "name": "python3"
  },
  "language_info": {
   "codemirror_mode": {
    "name": "ipython",
    "version": 3
   },
   "file_extension": ".py",
   "mimetype": "text/x-python",
   "name": "python",
   "nbconvert_exporter": "python",
   "pygments_lexer": "ipython3",
   "version": "3.9.7"
  }
 },
 "nbformat": 4,
 "nbformat_minor": 5
}
